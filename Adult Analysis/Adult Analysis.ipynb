{
 "cells": [
  {
   "cell_type": "code",
   "execution_count": 1,
   "id": "19bef2de-4e6b-48e7-a606-3af22954e520",
   "metadata": {},
   "outputs": [],
   "source": [
    "import pandas as pd\n",
    "import numpy as np\n",
    "import matplotlib.pyplot as plt \n",
    "import seaborn as sns"
   ]
  },
  {
   "cell_type": "code",
   "execution_count": 2,
   "id": "8d3facb0-714f-4b6d-8677-6177a4c68cc8",
   "metadata": {},
   "outputs": [],
   "source": [
    "df = pd.read_csv(\"adult.csv\")"
   ]
  },
  {
   "cell_type": "code",
   "execution_count": 3,
   "id": "5425efda-b81c-475e-80b2-e8e494485690",
   "metadata": {},
   "outputs": [
    {
     "data": {
      "text/html": [
       "<div>\n",
       "<style scoped>\n",
       "    .dataframe tbody tr th:only-of-type {\n",
       "        vertical-align: middle;\n",
       "    }\n",
       "\n",
       "    .dataframe tbody tr th {\n",
       "        vertical-align: top;\n",
       "    }\n",
       "\n",
       "    .dataframe thead th {\n",
       "        text-align: right;\n",
       "    }\n",
       "</style>\n",
       "<table border=\"1\" class=\"dataframe\">\n",
       "  <thead>\n",
       "    <tr style=\"text-align: right;\">\n",
       "      <th></th>\n",
       "      <th>age</th>\n",
       "      <th>workclass</th>\n",
       "      <th>fnlwgt</th>\n",
       "      <th>education</th>\n",
       "      <th>educational-num</th>\n",
       "      <th>marital-status</th>\n",
       "      <th>occupation</th>\n",
       "      <th>relationship</th>\n",
       "      <th>race</th>\n",
       "      <th>gender</th>\n",
       "      <th>capital-gain</th>\n",
       "      <th>capital-loss</th>\n",
       "      <th>hours-per-week</th>\n",
       "      <th>native-country</th>\n",
       "      <th>income</th>\n",
       "    </tr>\n",
       "  </thead>\n",
       "  <tbody>\n",
       "    <tr>\n",
       "      <th>0</th>\n",
       "      <td>25</td>\n",
       "      <td>Private</td>\n",
       "      <td>226802</td>\n",
       "      <td>11th</td>\n",
       "      <td>7</td>\n",
       "      <td>Never-married</td>\n",
       "      <td>Machine-op-inspct</td>\n",
       "      <td>Own-child</td>\n",
       "      <td>Black</td>\n",
       "      <td>Male</td>\n",
       "      <td>0</td>\n",
       "      <td>0</td>\n",
       "      <td>40</td>\n",
       "      <td>United-States</td>\n",
       "      <td>&lt;=50K</td>\n",
       "    </tr>\n",
       "    <tr>\n",
       "      <th>1</th>\n",
       "      <td>38</td>\n",
       "      <td>Private</td>\n",
       "      <td>89814</td>\n",
       "      <td>HS-grad</td>\n",
       "      <td>9</td>\n",
       "      <td>Married-civ-spouse</td>\n",
       "      <td>Farming-fishing</td>\n",
       "      <td>Husband</td>\n",
       "      <td>White</td>\n",
       "      <td>Male</td>\n",
       "      <td>0</td>\n",
       "      <td>0</td>\n",
       "      <td>50</td>\n",
       "      <td>United-States</td>\n",
       "      <td>&lt;=50K</td>\n",
       "    </tr>\n",
       "    <tr>\n",
       "      <th>2</th>\n",
       "      <td>28</td>\n",
       "      <td>Local-gov</td>\n",
       "      <td>336951</td>\n",
       "      <td>Assoc-acdm</td>\n",
       "      <td>12</td>\n",
       "      <td>Married-civ-spouse</td>\n",
       "      <td>Protective-serv</td>\n",
       "      <td>Husband</td>\n",
       "      <td>White</td>\n",
       "      <td>Male</td>\n",
       "      <td>0</td>\n",
       "      <td>0</td>\n",
       "      <td>40</td>\n",
       "      <td>United-States</td>\n",
       "      <td>&gt;50K</td>\n",
       "    </tr>\n",
       "    <tr>\n",
       "      <th>3</th>\n",
       "      <td>44</td>\n",
       "      <td>Private</td>\n",
       "      <td>160323</td>\n",
       "      <td>Some-college</td>\n",
       "      <td>10</td>\n",
       "      <td>Married-civ-spouse</td>\n",
       "      <td>Machine-op-inspct</td>\n",
       "      <td>Husband</td>\n",
       "      <td>Black</td>\n",
       "      <td>Male</td>\n",
       "      <td>7688</td>\n",
       "      <td>0</td>\n",
       "      <td>40</td>\n",
       "      <td>United-States</td>\n",
       "      <td>&gt;50K</td>\n",
       "    </tr>\n",
       "    <tr>\n",
       "      <th>4</th>\n",
       "      <td>18</td>\n",
       "      <td>?</td>\n",
       "      <td>103497</td>\n",
       "      <td>Some-college</td>\n",
       "      <td>10</td>\n",
       "      <td>Never-married</td>\n",
       "      <td>?</td>\n",
       "      <td>Own-child</td>\n",
       "      <td>White</td>\n",
       "      <td>Female</td>\n",
       "      <td>0</td>\n",
       "      <td>0</td>\n",
       "      <td>30</td>\n",
       "      <td>United-States</td>\n",
       "      <td>&lt;=50K</td>\n",
       "    </tr>\n",
       "  </tbody>\n",
       "</table>\n",
       "</div>"
      ],
      "text/plain": [
       "   age  workclass  fnlwgt     education  educational-num      marital-status  \\\n",
       "0   25    Private  226802          11th                7       Never-married   \n",
       "1   38    Private   89814       HS-grad                9  Married-civ-spouse   \n",
       "2   28  Local-gov  336951    Assoc-acdm               12  Married-civ-spouse   \n",
       "3   44    Private  160323  Some-college               10  Married-civ-spouse   \n",
       "4   18          ?  103497  Some-college               10       Never-married   \n",
       "\n",
       "          occupation relationship   race  gender  capital-gain  capital-loss  \\\n",
       "0  Machine-op-inspct    Own-child  Black    Male             0             0   \n",
       "1    Farming-fishing      Husband  White    Male             0             0   \n",
       "2    Protective-serv      Husband  White    Male             0             0   \n",
       "3  Machine-op-inspct      Husband  Black    Male          7688             0   \n",
       "4                  ?    Own-child  White  Female             0             0   \n",
       "\n",
       "   hours-per-week native-country income  \n",
       "0              40  United-States  <=50K  \n",
       "1              50  United-States  <=50K  \n",
       "2              40  United-States   >50K  \n",
       "3              40  United-States   >50K  \n",
       "4              30  United-States  <=50K  "
      ]
     },
     "execution_count": 3,
     "metadata": {},
     "output_type": "execute_result"
    }
   ],
   "source": [
    "df.head()"
   ]
  },
  {
   "cell_type": "markdown",
   "id": "0f5b4346-5cd5-40b0-8055-38ef5bcbdda9",
   "metadata": {},
   "source": [
    "# Find Shape of Our Dataset (Number of Rows And Number of Columns)"
   ]
  },
  {
   "cell_type": "code",
   "execution_count": 4,
   "id": "2a11adaa-ae16-46ba-a070-637113c2c650",
   "metadata": {},
   "outputs": [
    {
     "data": {
      "text/plain": [
       "(48842, 15)"
      ]
     },
     "execution_count": 4,
     "metadata": {},
     "output_type": "execute_result"
    }
   ],
   "source": [
    "df.shape"
   ]
  },
  {
   "cell_type": "markdown",
   "id": "0731868c-aa5e-4caa-a480-83376e96f484",
   "metadata": {},
   "source": [
    "# Getting Information About Our Dataset Like Total Number Rows, Total Number of Columns, Datatypes of Each Column And Memory Requirement"
   ]
  },
  {
   "cell_type": "code",
   "execution_count": 5,
   "id": "bfdefcb0-6914-4867-a182-f9b9d64f58c8",
   "metadata": {},
   "outputs": [
    {
     "name": "stdout",
     "output_type": "stream",
     "text": [
      "<class 'pandas.core.frame.DataFrame'>\n",
      "RangeIndex: 48842 entries, 0 to 48841\n",
      "Data columns (total 15 columns):\n",
      " #   Column           Non-Null Count  Dtype \n",
      "---  ------           --------------  ----- \n",
      " 0   age              48842 non-null  int64 \n",
      " 1   workclass        48842 non-null  object\n",
      " 2   fnlwgt           48842 non-null  int64 \n",
      " 3   education        48842 non-null  object\n",
      " 4   educational-num  48842 non-null  int64 \n",
      " 5   marital-status   48842 non-null  object\n",
      " 6   occupation       48842 non-null  object\n",
      " 7   relationship     48842 non-null  object\n",
      " 8   race             48842 non-null  object\n",
      " 9   gender           48842 non-null  object\n",
      " 10  capital-gain     48842 non-null  int64 \n",
      " 11  capital-loss     48842 non-null  int64 \n",
      " 12  hours-per-week   48842 non-null  int64 \n",
      " 13  native-country   48842 non-null  object\n",
      " 14  income           48842 non-null  object\n",
      "dtypes: int64(6), object(9)\n",
      "memory usage: 5.6+ MB\n"
     ]
    }
   ],
   "source": [
    "df.info()"
   ]
  },
  {
   "cell_type": "markdown",
   "id": "da2ead56-bbb0-4c30-9314-e4c5531f0e86",
   "metadata": {},
   "source": [
    "# Fetch Random Sample From the Dataset (50%)"
   ]
  },
  {
   "cell_type": "code",
   "execution_count": 6,
   "id": "240e8e7c-19ba-4ea1-8307-a2a8de79839b",
   "metadata": {
    "scrolled": true
   },
   "outputs": [
    {
     "data": {
      "text/html": [
       "<div>\n",
       "<style scoped>\n",
       "    .dataframe tbody tr th:only-of-type {\n",
       "        vertical-align: middle;\n",
       "    }\n",
       "\n",
       "    .dataframe tbody tr th {\n",
       "        vertical-align: top;\n",
       "    }\n",
       "\n",
       "    .dataframe thead th {\n",
       "        text-align: right;\n",
       "    }\n",
       "</style>\n",
       "<table border=\"1\" class=\"dataframe\">\n",
       "  <thead>\n",
       "    <tr style=\"text-align: right;\">\n",
       "      <th></th>\n",
       "      <th>age</th>\n",
       "      <th>workclass</th>\n",
       "      <th>fnlwgt</th>\n",
       "      <th>education</th>\n",
       "      <th>educational-num</th>\n",
       "      <th>marital-status</th>\n",
       "      <th>occupation</th>\n",
       "      <th>relationship</th>\n",
       "      <th>race</th>\n",
       "      <th>gender</th>\n",
       "      <th>capital-gain</th>\n",
       "      <th>capital-loss</th>\n",
       "      <th>hours-per-week</th>\n",
       "      <th>native-country</th>\n",
       "      <th>income</th>\n",
       "    </tr>\n",
       "  </thead>\n",
       "  <tbody>\n",
       "    <tr>\n",
       "      <th>12393</th>\n",
       "      <td>37</td>\n",
       "      <td>Private</td>\n",
       "      <td>110331</td>\n",
       "      <td>Prof-school</td>\n",
       "      <td>15</td>\n",
       "      <td>Married-civ-spouse</td>\n",
       "      <td>Other-service</td>\n",
       "      <td>Wife</td>\n",
       "      <td>White</td>\n",
       "      <td>Female</td>\n",
       "      <td>0</td>\n",
       "      <td>0</td>\n",
       "      <td>60</td>\n",
       "      <td>United-States</td>\n",
       "      <td>&gt;50K</td>\n",
       "    </tr>\n",
       "    <tr>\n",
       "      <th>48701</th>\n",
       "      <td>23</td>\n",
       "      <td>Private</td>\n",
       "      <td>45834</td>\n",
       "      <td>Bachelors</td>\n",
       "      <td>13</td>\n",
       "      <td>Never-married</td>\n",
       "      <td>Exec-managerial</td>\n",
       "      <td>Not-in-family</td>\n",
       "      <td>White</td>\n",
       "      <td>Female</td>\n",
       "      <td>0</td>\n",
       "      <td>0</td>\n",
       "      <td>50</td>\n",
       "      <td>United-States</td>\n",
       "      <td>&lt;=50K</td>\n",
       "    </tr>\n",
       "    <tr>\n",
       "      <th>17918</th>\n",
       "      <td>28</td>\n",
       "      <td>Private</td>\n",
       "      <td>89718</td>\n",
       "      <td>HS-grad</td>\n",
       "      <td>9</td>\n",
       "      <td>Never-married</td>\n",
       "      <td>Sales</td>\n",
       "      <td>Not-in-family</td>\n",
       "      <td>White</td>\n",
       "      <td>Female</td>\n",
       "      <td>2202</td>\n",
       "      <td>0</td>\n",
       "      <td>48</td>\n",
       "      <td>United-States</td>\n",
       "      <td>&lt;=50K</td>\n",
       "    </tr>\n",
       "    <tr>\n",
       "      <th>11352</th>\n",
       "      <td>30</td>\n",
       "      <td>Private</td>\n",
       "      <td>351770</td>\n",
       "      <td>9th</td>\n",
       "      <td>5</td>\n",
       "      <td>Divorced</td>\n",
       "      <td>Other-service</td>\n",
       "      <td>Unmarried</td>\n",
       "      <td>White</td>\n",
       "      <td>Female</td>\n",
       "      <td>0</td>\n",
       "      <td>0</td>\n",
       "      <td>38</td>\n",
       "      <td>United-States</td>\n",
       "      <td>&lt;=50K</td>\n",
       "    </tr>\n",
       "    <tr>\n",
       "      <th>36198</th>\n",
       "      <td>31</td>\n",
       "      <td>Private</td>\n",
       "      <td>164190</td>\n",
       "      <td>10th</td>\n",
       "      <td>6</td>\n",
       "      <td>Married-civ-spouse</td>\n",
       "      <td>Transport-moving</td>\n",
       "      <td>Husband</td>\n",
       "      <td>White</td>\n",
       "      <td>Male</td>\n",
       "      <td>0</td>\n",
       "      <td>0</td>\n",
       "      <td>40</td>\n",
       "      <td>United-States</td>\n",
       "      <td>&lt;=50K</td>\n",
       "    </tr>\n",
       "    <tr>\n",
       "      <th>...</th>\n",
       "      <td>...</td>\n",
       "      <td>...</td>\n",
       "      <td>...</td>\n",
       "      <td>...</td>\n",
       "      <td>...</td>\n",
       "      <td>...</td>\n",
       "      <td>...</td>\n",
       "      <td>...</td>\n",
       "      <td>...</td>\n",
       "      <td>...</td>\n",
       "      <td>...</td>\n",
       "      <td>...</td>\n",
       "      <td>...</td>\n",
       "      <td>...</td>\n",
       "      <td>...</td>\n",
       "    </tr>\n",
       "    <tr>\n",
       "      <th>48573</th>\n",
       "      <td>41</td>\n",
       "      <td>Private</td>\n",
       "      <td>318046</td>\n",
       "      <td>Some-college</td>\n",
       "      <td>10</td>\n",
       "      <td>Married-civ-spouse</td>\n",
       "      <td>Transport-moving</td>\n",
       "      <td>Husband</td>\n",
       "      <td>White</td>\n",
       "      <td>Male</td>\n",
       "      <td>0</td>\n",
       "      <td>0</td>\n",
       "      <td>48</td>\n",
       "      <td>United-States</td>\n",
       "      <td>&gt;50K</td>\n",
       "    </tr>\n",
       "    <tr>\n",
       "      <th>47252</th>\n",
       "      <td>41</td>\n",
       "      <td>Local-gov</td>\n",
       "      <td>33658</td>\n",
       "      <td>Some-college</td>\n",
       "      <td>10</td>\n",
       "      <td>Married-civ-spouse</td>\n",
       "      <td>Protective-serv</td>\n",
       "      <td>Husband</td>\n",
       "      <td>White</td>\n",
       "      <td>Male</td>\n",
       "      <td>0</td>\n",
       "      <td>0</td>\n",
       "      <td>45</td>\n",
       "      <td>United-States</td>\n",
       "      <td>&gt;50K</td>\n",
       "    </tr>\n",
       "    <tr>\n",
       "      <th>33142</th>\n",
       "      <td>69</td>\n",
       "      <td>Private</td>\n",
       "      <td>312653</td>\n",
       "      <td>Some-college</td>\n",
       "      <td>10</td>\n",
       "      <td>Married-civ-spouse</td>\n",
       "      <td>Sales</td>\n",
       "      <td>Husband</td>\n",
       "      <td>White</td>\n",
       "      <td>Male</td>\n",
       "      <td>0</td>\n",
       "      <td>0</td>\n",
       "      <td>25</td>\n",
       "      <td>United-States</td>\n",
       "      <td>&lt;=50K</td>\n",
       "    </tr>\n",
       "    <tr>\n",
       "      <th>2965</th>\n",
       "      <td>21</td>\n",
       "      <td>?</td>\n",
       "      <td>334593</td>\n",
       "      <td>Some-college</td>\n",
       "      <td>10</td>\n",
       "      <td>Never-married</td>\n",
       "      <td>?</td>\n",
       "      <td>Not-in-family</td>\n",
       "      <td>White</td>\n",
       "      <td>Male</td>\n",
       "      <td>0</td>\n",
       "      <td>0</td>\n",
       "      <td>40</td>\n",
       "      <td>United-States</td>\n",
       "      <td>&lt;=50K</td>\n",
       "    </tr>\n",
       "    <tr>\n",
       "      <th>32089</th>\n",
       "      <td>34</td>\n",
       "      <td>Private</td>\n",
       "      <td>186269</td>\n",
       "      <td>HS-grad</td>\n",
       "      <td>9</td>\n",
       "      <td>Divorced</td>\n",
       "      <td>Adm-clerical</td>\n",
       "      <td>Own-child</td>\n",
       "      <td>White</td>\n",
       "      <td>Male</td>\n",
       "      <td>0</td>\n",
       "      <td>0</td>\n",
       "      <td>40</td>\n",
       "      <td>United-States</td>\n",
       "      <td>&lt;=50K</td>\n",
       "    </tr>\n",
       "  </tbody>\n",
       "</table>\n",
       "<p>24421 rows × 15 columns</p>\n",
       "</div>"
      ],
      "text/plain": [
       "       age  workclass  fnlwgt     education  educational-num  \\\n",
       "12393   37    Private  110331   Prof-school               15   \n",
       "48701   23    Private   45834     Bachelors               13   \n",
       "17918   28    Private   89718       HS-grad                9   \n",
       "11352   30    Private  351770           9th                5   \n",
       "36198   31    Private  164190          10th                6   \n",
       "...    ...        ...     ...           ...              ...   \n",
       "48573   41    Private  318046  Some-college               10   \n",
       "47252   41  Local-gov   33658  Some-college               10   \n",
       "33142   69    Private  312653  Some-college               10   \n",
       "2965    21          ?  334593  Some-college               10   \n",
       "32089   34    Private  186269       HS-grad                9   \n",
       "\n",
       "           marital-status        occupation   relationship   race  gender  \\\n",
       "12393  Married-civ-spouse     Other-service           Wife  White  Female   \n",
       "48701       Never-married   Exec-managerial  Not-in-family  White  Female   \n",
       "17918       Never-married             Sales  Not-in-family  White  Female   \n",
       "11352            Divorced     Other-service      Unmarried  White  Female   \n",
       "36198  Married-civ-spouse  Transport-moving        Husband  White    Male   \n",
       "...                   ...               ...            ...    ...     ...   \n",
       "48573  Married-civ-spouse  Transport-moving        Husband  White    Male   \n",
       "47252  Married-civ-spouse   Protective-serv        Husband  White    Male   \n",
       "33142  Married-civ-spouse             Sales        Husband  White    Male   \n",
       "2965        Never-married                 ?  Not-in-family  White    Male   \n",
       "32089            Divorced      Adm-clerical      Own-child  White    Male   \n",
       "\n",
       "       capital-gain  capital-loss  hours-per-week native-country income  \n",
       "12393             0             0              60  United-States   >50K  \n",
       "48701             0             0              50  United-States  <=50K  \n",
       "17918          2202             0              48  United-States  <=50K  \n",
       "11352             0             0              38  United-States  <=50K  \n",
       "36198             0             0              40  United-States  <=50K  \n",
       "...             ...           ...             ...            ...    ...  \n",
       "48573             0             0              48  United-States   >50K  \n",
       "47252             0             0              45  United-States   >50K  \n",
       "33142             0             0              25  United-States  <=50K  \n",
       "2965              0             0              40  United-States  <=50K  \n",
       "32089             0             0              40  United-States  <=50K  \n",
       "\n",
       "[24421 rows x 15 columns]"
      ]
     },
     "execution_count": 6,
     "metadata": {},
     "output_type": "execute_result"
    }
   ],
   "source": [
    "df.sample(frac = 0.50,random_state = 100)"
   ]
  },
  {
   "cell_type": "markdown",
   "id": "b9fd9ddc-8e8b-44f0-8b83-a65f1ad349a2",
   "metadata": {},
   "source": [
    "# Check Null Values In The Dataset"
   ]
  },
  {
   "cell_type": "code",
   "execution_count": 7,
   "id": "71ca1e26-2132-43cd-aeca-e70724422b7c",
   "metadata": {},
   "outputs": [
    {
     "data": {
      "text/plain": [
       "age                0\n",
       "workclass          0\n",
       "fnlwgt             0\n",
       "education          0\n",
       "educational-num    0\n",
       "marital-status     0\n",
       "occupation         0\n",
       "relationship       0\n",
       "race               0\n",
       "gender             0\n",
       "capital-gain       0\n",
       "capital-loss       0\n",
       "hours-per-week     0\n",
       "native-country     0\n",
       "income             0\n",
       "dtype: int64"
      ]
     },
     "execution_count": 7,
     "metadata": {},
     "output_type": "execute_result"
    }
   ],
   "source": [
    "df.isnull().sum()"
   ]
  },
  {
   "cell_type": "markdown",
   "id": "e6749a47-e82a-41f7-b01c-490601dfdc2b",
   "metadata": {},
   "source": [
    "# Perform Data Cleaning [ Replace '?' with NaN ]\n"
   ]
  },
  {
   "cell_type": "code",
   "execution_count": 8,
   "id": "50a08ff2-d707-47a1-8953-09b86155ff7d",
   "metadata": {},
   "outputs": [
    {
     "data": {
      "text/plain": [
       "age                   0\n",
       "workclass          2799\n",
       "fnlwgt                0\n",
       "education             0\n",
       "educational-num       0\n",
       "marital-status        0\n",
       "occupation         2809\n",
       "relationship          0\n",
       "race                  0\n",
       "gender                0\n",
       "capital-gain          0\n",
       "capital-loss          0\n",
       "hours-per-week        0\n",
       "native-country      857\n",
       "income                0\n",
       "dtype: int64"
      ]
     },
     "execution_count": 8,
     "metadata": {},
     "output_type": "execute_result"
    }
   ],
   "source": [
    "df.isin([\"?\"]).sum()"
   ]
  },
  {
   "cell_type": "code",
   "execution_count": 9,
   "id": "3b423c24-3fe8-456a-a37f-ef8e2c06393d",
   "metadata": {},
   "outputs": [
    {
     "data": {
      "text/plain": [
       "Index(['age', 'workclass', 'fnlwgt', 'education', 'educational-num',\n",
       "       'marital-status', 'occupation', 'relationship', 'race', 'gender',\n",
       "       'capital-gain', 'capital-loss', 'hours-per-week', 'native-country',\n",
       "       'income'],\n",
       "      dtype='object')"
      ]
     },
     "execution_count": 9,
     "metadata": {},
     "output_type": "execute_result"
    }
   ],
   "source": [
    "df.columns"
   ]
  },
  {
   "cell_type": "code",
   "execution_count": 10,
   "id": "0000e8f7-3a17-4341-a0b3-d765ca98f558",
   "metadata": {},
   "outputs": [],
   "source": [
    "df[\"workclass\"] = df['workclass'].replace(\"?\",np.nan)\n",
    "df[\"occupation\"] = df['occupation'].replace(\"?\",np.nan)\n",
    "df[\"native-country\"] = df['native-country'].replace(\"?\",np.nan)"
   ]
  },
  {
   "cell_type": "code",
   "execution_count": 11,
   "id": "a01363ab-361a-44dc-a902-d1a4140aaacf",
   "metadata": {},
   "outputs": [
    {
     "data": {
      "text/plain": [
       "age                0\n",
       "workclass          0\n",
       "fnlwgt             0\n",
       "education          0\n",
       "educational-num    0\n",
       "marital-status     0\n",
       "occupation         0\n",
       "relationship       0\n",
       "race               0\n",
       "gender             0\n",
       "capital-gain       0\n",
       "capital-loss       0\n",
       "hours-per-week     0\n",
       "native-country     0\n",
       "income             0\n",
       "dtype: int64"
      ]
     },
     "execution_count": 11,
     "metadata": {},
     "output_type": "execute_result"
    }
   ],
   "source": [
    "df.isin([\"?\"]).sum()"
   ]
  },
  {
   "cell_type": "markdown",
   "id": "a28493cf-0e58-4740-ab31-57359b0354db",
   "metadata": {},
   "source": [
    "# Drop all The Missing Values"
   ]
  },
  {
   "cell_type": "code",
   "execution_count": 12,
   "id": "ffc43cde-b2a8-40a5-a575-30fe6eab4250",
   "metadata": {},
   "outputs": [
    {
     "data": {
      "text/plain": [
       "age                   0\n",
       "workclass          2799\n",
       "fnlwgt                0\n",
       "education             0\n",
       "educational-num       0\n",
       "marital-status        0\n",
       "occupation         2809\n",
       "relationship          0\n",
       "race                  0\n",
       "gender                0\n",
       "capital-gain          0\n",
       "capital-loss          0\n",
       "hours-per-week        0\n",
       "native-country      857\n",
       "income                0\n",
       "dtype: int64"
      ]
     },
     "execution_count": 12,
     "metadata": {},
     "output_type": "execute_result"
    }
   ],
   "source": [
    "df.isnull().sum()"
   ]
  },
  {
   "cell_type": "code",
   "execution_count": 13,
   "id": "955a00dc-e81c-4825-a416-c8778a5b085f",
   "metadata": {},
   "outputs": [],
   "source": [
    "df.dropna(how = 'any',inplace = True)"
   ]
  },
  {
   "cell_type": "code",
   "execution_count": 14,
   "id": "2b82fe68-2bd4-46a3-974b-5ebe381d0bf6",
   "metadata": {},
   "outputs": [
    {
     "data": {
      "text/plain": [
       "age                0\n",
       "workclass          0\n",
       "fnlwgt             0\n",
       "education          0\n",
       "educational-num    0\n",
       "marital-status     0\n",
       "occupation         0\n",
       "relationship       0\n",
       "race               0\n",
       "gender             0\n",
       "capital-gain       0\n",
       "capital-loss       0\n",
       "hours-per-week     0\n",
       "native-country     0\n",
       "income             0\n",
       "dtype: int64"
      ]
     },
     "execution_count": 14,
     "metadata": {},
     "output_type": "execute_result"
    }
   ],
   "source": [
    "df.isnull().sum()"
   ]
  },
  {
   "cell_type": "markdown",
   "id": "a5a2f097-450c-4e1d-bedb-be4b4082bc27",
   "metadata": {},
   "source": [
    "#  Check For Duplicate Data and Drop Them"
   ]
  },
  {
   "cell_type": "code",
   "execution_count": 15,
   "id": "55aa46b9-3e10-417a-9880-77b44f4e3127",
   "metadata": {},
   "outputs": [
    {
     "data": {
      "text/plain": [
       "True"
      ]
     },
     "execution_count": 15,
     "metadata": {},
     "output_type": "execute_result"
    }
   ],
   "source": [
    "dup = df.duplicated().any()\n",
    "dup"
   ]
  },
  {
   "cell_type": "code",
   "execution_count": 16,
   "id": "f305e97a-665e-4ddb-8aa9-1fc5280bec24",
   "metadata": {},
   "outputs": [],
   "source": [
    " df = df.drop_duplicates()"
   ]
  },
  {
   "cell_type": "code",
   "execution_count": 17,
   "id": "747beb87-c897-4cf6-ab50-cac4c35e774c",
   "metadata": {},
   "outputs": [
    {
     "data": {
      "text/plain": [
       "(45175, 15)"
      ]
     },
     "execution_count": 17,
     "metadata": {},
     "output_type": "execute_result"
    }
   ],
   "source": [
    "df.shape"
   ]
  },
  {
   "cell_type": "markdown",
   "id": "486bd846-309e-4bc2-8ba8-c83277318e4d",
   "metadata": {},
   "source": [
    "#  Drop The Columns education-num, capital-gain, and capital-loss"
   ]
  },
  {
   "cell_type": "code",
   "execution_count": 18,
   "id": "3b0d344d-f17e-4b11-af27-854cb4920f09",
   "metadata": {},
   "outputs": [
    {
     "data": {
      "text/plain": [
       "Index(['age', 'workclass', 'fnlwgt', 'education', 'educational-num',\n",
       "       'marital-status', 'occupation', 'relationship', 'race', 'gender',\n",
       "       'capital-gain', 'capital-loss', 'hours-per-week', 'native-country',\n",
       "       'income'],\n",
       "      dtype='object')"
      ]
     },
     "execution_count": 18,
     "metadata": {},
     "output_type": "execute_result"
    }
   ],
   "source": [
    "df.columns"
   ]
  },
  {
   "cell_type": "code",
   "execution_count": 19,
   "id": "6c63e711-bea0-4d4d-a798-42bb274cd2c1",
   "metadata": {},
   "outputs": [],
   "source": [
    "df = df.drop([\"educational-num\",\"capital-gain\",\"capital-loss\"], axis = 1)"
   ]
  },
  {
   "cell_type": "code",
   "execution_count": 20,
   "id": "b639f19e-4694-4a8e-8b0d-19c4630c5b20",
   "metadata": {},
   "outputs": [
    {
     "data": {
      "text/plain": [
       "Index(['age', 'workclass', 'fnlwgt', 'education', 'marital-status',\n",
       "       'occupation', 'relationship', 'race', 'gender', 'hours-per-week',\n",
       "       'native-country', 'income'],\n",
       "      dtype='object')"
      ]
     },
     "execution_count": 20,
     "metadata": {},
     "output_type": "execute_result"
    }
   ],
   "source": [
    "df.columns"
   ]
  },
  {
   "cell_type": "markdown",
   "id": "18f2f3aa-eb54-4aef-a9c4-9bf88100193e",
   "metadata": {},
   "source": [
    "# UNIVERIATE ANAYSIS"
   ]
  },
  {
   "cell_type": "markdown",
   "id": "49c3b492-1969-43b0-b10d-c7fba3e6b11b",
   "metadata": {},
   "source": [
    "## What Is The Distribution of Age Column?"
   ]
  },
  {
   "cell_type": "code",
   "execution_count": 21,
   "id": "3120c9d0-4672-41b2-9b62-bff0a402c7c3",
   "metadata": {},
   "outputs": [
    {
     "data": {
      "text/plain": [
       "count    45175.000000\n",
       "mean        38.556170\n",
       "std         13.215349\n",
       "min         17.000000\n",
       "25%         28.000000\n",
       "50%         37.000000\n",
       "75%         47.000000\n",
       "max         90.000000\n",
       "Name: age, dtype: float64"
      ]
     },
     "execution_count": 21,
     "metadata": {},
     "output_type": "execute_result"
    }
   ],
   "source": [
    "df[\"age\"].describe()"
   ]
  },
  {
   "cell_type": "code",
   "execution_count": 22,
   "id": "93ce84c4-2689-475e-9e5a-54840dc1f973",
   "metadata": {},
   "outputs": [
    {
     "data": {
      "text/plain": [
       "<Axes: >"
      ]
     },
     "execution_count": 22,
     "metadata": {},
     "output_type": "execute_result"
    },
    {
     "data": {
      "image/png": "[encoded data removed]",
      "text/plain": [
       "<Figure size 640x480 with 1 Axes>"
      ]
     },
     "metadata": {},
     "output_type": "display_data"
    }
   ],
   "source": [
    "df[\"age\"].hist()"
   ]
  },
  {
   "cell_type": "markdown",
   "id": "2be915ed-adb5-4714-951c-2f5957f9863e",
   "metadata": {},
   "source": [
    "## Find Total Number of Persons Having Age Between 17 To 48 (Inclusive) Using Between Method"
   ]
  },
  {
   "cell_type": "code",
   "execution_count": 23,
   "id": "631f4ce7-71e0-4dd4-ac00-cfe97d23e2c9",
   "metadata": {},
   "outputs": [
    {
     "data": {
      "text/plain": [
       "45175"
      ]
     },
     "execution_count": 23,
     "metadata": {},
     "output_type": "execute_result"
    }
   ],
   "source": [
    "len((df[\"age\"]<=17) & (df[\"age\"]>=18))"
   ]
  },
  {
   "cell_type": "code",
   "execution_count": 24,
   "id": "810a2585-663d-42b6-90f8-a1c4cd008013",
   "metadata": {},
   "outputs": [
    {
     "data": {
      "text/plain": [
       "45175"
      ]
     },
     "execution_count": 24,
     "metadata": {},
     "output_type": "execute_result"
    }
   ],
   "source": [
    "len(df[\"age\"].between(17,48))"
   ]
  },
  {
   "cell_type": "markdown",
   "id": "c5ce3cf4-3c6b-4571-a021-d182c68f2bc4",
   "metadata": {},
   "source": [
    "## What is The Distribution of Workclass Column?"
   ]
  },
  {
   "cell_type": "code",
   "execution_count": 25,
   "id": "1c4120c6-c9ca-48bf-a56a-e3f11a21edb9",
   "metadata": {},
   "outputs": [
    {
     "data": {
      "text/plain": [
       "count       45175\n",
       "unique          7\n",
       "top       Private\n",
       "freq        33262\n",
       "Name: workclass, dtype: object"
      ]
     },
     "execution_count": 25,
     "metadata": {},
     "output_type": "execute_result"
    }
   ],
   "source": [
    "df[\"workclass\"].describe()"
   ]
  },
  {
   "cell_type": "code",
   "execution_count": 26,
   "id": "fc041196-d1aa-4344-9c22-8ed20b8f2ff5",
   "metadata": {},
   "outputs": [
    {
     "data": {
      "text/plain": [
       "<Axes: >"
      ]
     },
     "execution_count": 26,
     "metadata": {},
     "output_type": "execute_result"
    },
    {
     "data": {
      "image/png": "[encoded data removed]",
      "text/plain": [
       "<Figure size 900x700 with 1 Axes>"
      ]
     },
     "metadata": {},
     "output_type": "display_data"
    }
   ],
   "source": [
    "plt.figure(figsize = (9,7))\n",
    "df[\"workclass\"].hist()"
   ]
  },
  {
   "cell_type": "markdown",
   "id": "e36ee770-3cd5-42c2-a092-15a344bc7c4d",
   "metadata": {},
   "source": [
    "##  How Many Persons Having Bachelors and Masters Degree?"
   ]
  },
  {
   "cell_type": "code",
   "execution_count": 27,
   "id": "7543a088-5915-4083-be4a-f3aef3c5ec48",
   "metadata": {},
   "outputs": [],
   "source": [
    "x = df[\"education\"]==\"Bachelors\"\n",
    "y = df[\"education\"]==\"Masters\""
   ]
  },
  {
   "cell_type": "code",
   "execution_count": 28,
   "id": "bcdec9e8-0ef7-415c-948b-46e34955f150",
   "metadata": {},
   "outputs": [
    {
     "data": {
      "text/plain": [
       "10072"
      ]
     },
     "execution_count": 28,
     "metadata": {},
     "output_type": "execute_result"
    }
   ],
   "source": [
    "len(df[x | y])\n"
   ]
  },
  {
   "cell_type": "code",
   "execution_count": 29,
   "id": "b3df94f9-ed39-49c1-b52c-504ca76260c8",
   "metadata": {},
   "outputs": [
    {
     "data": {
      "text/plain": [
       "10072"
      ]
     },
     "execution_count": 29,
     "metadata": {},
     "output_type": "execute_result"
    }
   ],
   "source": [
    "df[\"education\"].isin([\"Bachelors\",\"Masters\"]).sum()"
   ]
  },
  {
   "cell_type": "markdown",
   "id": "32948ed6-f815-4445-b748-3ceb1c64f0ab",
   "metadata": {},
   "source": [
    "# BIVERIATE ANALYSIS"
   ]
  },
  {
   "cell_type": "code",
   "execution_count": 30,
   "id": "94900098-2d4d-4275-8155-ceeae6e25882",
   "metadata": {},
   "outputs": [
    {
     "data": {
      "text/plain": [
       "Index(['age', 'workclass', 'fnlwgt', 'education', 'marital-status',\n",
       "       'occupation', 'relationship', 'race', 'gender', 'hours-per-week',\n",
       "       'native-country', 'income'],\n",
       "      dtype='object')"
      ]
     },
     "execution_count": 30,
     "metadata": {},
     "output_type": "execute_result"
    }
   ],
   "source": [
    "df.columns"
   ]
  },
  {
   "cell_type": "code",
   "execution_count": 31,
   "id": "41f19c85-6196-4afd-8c6a-9e4a64659996",
   "metadata": {},
   "outputs": [
    {
     "data": {
      "text/plain": [
       "<Axes: xlabel='income', ylabel='age'>"
      ]
     },
     "execution_count": 31,
     "metadata": {},
     "output_type": "execute_result"
    },
    {
     "data": {
      "image/png": "[encoded data removed]",
      "text/plain": [
       "<Figure size 640x480 with 1 Axes>"
      ]
     },
     "metadata": {},
     "output_type": "display_data"
    }
   ],
   "source": [
    "sns.barplot(df,x=\"income\",y=\"age\")"
   ]
  },
  {
   "cell_type": "markdown",
   "id": "c06f578e-797a-4846-b0a7-ee7085206c98",
   "metadata": {},
   "source": [
    "## Replace Salary Values With 0 and 1 "
   ]
  },
  {
   "cell_type": "code",
   "execution_count": 32,
   "id": "ade6b9a4-a15c-4551-ad40-0ff34eb44258",
   "metadata": {},
   "outputs": [
    {
     "data": {
      "text/plain": [
       "array(['<=50K', '>50K'], dtype=object)"
      ]
     },
     "execution_count": 32,
     "metadata": {},
     "output_type": "execute_result"
    }
   ],
   "source": [
    "df[\"income\"].unique(\n",
    ")"
   ]
  },
  {
   "cell_type": "code",
   "execution_count": 33,
   "id": "620131ca-b0e2-48c7-b180-4e08a9cb28b9",
   "metadata": {},
   "outputs": [],
   "source": [
    "def salary_change(sal):\n",
    "    if sal == \"<=50K\":\n",
    "        return 0\n",
    "    else:\n",
    "        return 1"
   ]
  },
  {
   "cell_type": "code",
   "execution_count": 34,
   "id": "9fe683fd-4d60-4882-b27e-1fdd660ebfdd",
   "metadata": {},
   "outputs": [],
   "source": [
    "df[\"income_change\"] = df[\"income\"].apply(salary_change)"
   ]
  },
  {
   "cell_type": "code",
   "execution_count": 35,
   "id": "960afc82-9abf-4fac-8a23-2f79e82bdb2d",
   "metadata": {},
   "outputs": [
    {
     "data": {
      "text/html": [
       "<div>\n",
       "<style scoped>\n",
       "    .dataframe tbody tr th:only-of-type {\n",
       "        vertical-align: middle;\n",
       "    }\n",
       "\n",
       "    .dataframe tbody tr th {\n",
       "        vertical-align: top;\n",
       "    }\n",
       "\n",
       "    .dataframe thead th {\n",
       "        text-align: right;\n",
       "    }\n",
       "</style>\n",
       "<table border=\"1\" class=\"dataframe\">\n",
       "  <thead>\n",
       "    <tr style=\"text-align: right;\">\n",
       "      <th></th>\n",
       "      <th>age</th>\n",
       "      <th>workclass</th>\n",
       "      <th>fnlwgt</th>\n",
       "      <th>education</th>\n",
       "      <th>marital-status</th>\n",
       "      <th>occupation</th>\n",
       "      <th>relationship</th>\n",
       "      <th>race</th>\n",
       "      <th>gender</th>\n",
       "      <th>hours-per-week</th>\n",
       "      <th>native-country</th>\n",
       "      <th>income</th>\n",
       "      <th>income_change</th>\n",
       "    </tr>\n",
       "  </thead>\n",
       "  <tbody>\n",
       "    <tr>\n",
       "      <th>0</th>\n",
       "      <td>25</td>\n",
       "      <td>Private</td>\n",
       "      <td>226802</td>\n",
       "      <td>11th</td>\n",
       "      <td>Never-married</td>\n",
       "      <td>Machine-op-inspct</td>\n",
       "      <td>Own-child</td>\n",
       "      <td>Black</td>\n",
       "      <td>Male</td>\n",
       "      <td>40</td>\n",
       "      <td>United-States</td>\n",
       "      <td>&lt;=50K</td>\n",
       "      <td>0</td>\n",
       "    </tr>\n",
       "  </tbody>\n",
       "</table>\n",
       "</div>"
      ],
      "text/plain": [
       "   age workclass  fnlwgt education marital-status         occupation  \\\n",
       "0   25   Private  226802      11th  Never-married  Machine-op-inspct   \n",
       "\n",
       "  relationship   race gender  hours-per-week native-country income  \\\n",
       "0    Own-child  Black   Male              40  United-States  <=50K   \n",
       "\n",
       "   income_change  \n",
       "0              0  "
      ]
     },
     "execution_count": 35,
     "metadata": {},
     "output_type": "execute_result"
    }
   ],
   "source": [
    "df.head(1)"
   ]
  },
  {
   "cell_type": "code",
   "execution_count": 36,
   "id": "0a7d324b-c169-446d-87c7-bab899d09905",
   "metadata": {},
   "outputs": [
    {
     "data": {
      "text/plain": [
       "array(['<=50K', '>50K'], dtype=object)"
      ]
     },
     "execution_count": 36,
     "metadata": {},
     "output_type": "execute_result"
    }
   ],
   "source": [
    "df[\"income\"].unique()"
   ]
  },
  {
   "cell_type": "code",
   "execution_count": 37,
   "id": "1e1e8980-b423-4f8b-91da-3b9ecbd13614",
   "metadata": {},
   "outputs": [
    {
     "name": "stderr",
     "output_type": "stream",
     "text": [
      "C:\\Users\\dheer\\AppData\\Local\\Temp\\ipykernel_17692\\435426207.py:3: FutureWarning: Downcasting behavior in `replace` is deprecated and will be removed in a future version. To retain the old behavior, explicitly call `result.infer_objects(copy=False)`. To opt-in to the future behavior, set `pd.set_option('future.no_silent_downcasting', True)`\n",
      "  df.replace(to_replace = ['<=50K', '>50K'],value= [0,1],inplace = True)\n"
     ]
    }
   ],
   "source": [
    "#2nd method\n",
    "\n",
    "df.replace(to_replace = ['<=50K', '>50K'],value= [0,1],inplace = True)"
   ]
  },
  {
   "cell_type": "code",
   "execution_count": 38,
   "id": "e79a0314-94d5-434c-bd15-0a50adb28963",
   "metadata": {},
   "outputs": [
    {
     "data": {
      "text/html": [
       "<div>\n",
       "<style scoped>\n",
       "    .dataframe tbody tr th:only-of-type {\n",
       "        vertical-align: middle;\n",
       "    }\n",
       "\n",
       "    .dataframe tbody tr th {\n",
       "        vertical-align: top;\n",
       "    }\n",
       "\n",
       "    .dataframe thead th {\n",
       "        text-align: right;\n",
       "    }\n",
       "</style>\n",
       "<table border=\"1\" class=\"dataframe\">\n",
       "  <thead>\n",
       "    <tr style=\"text-align: right;\">\n",
       "      <th></th>\n",
       "      <th>age</th>\n",
       "      <th>workclass</th>\n",
       "      <th>fnlwgt</th>\n",
       "      <th>education</th>\n",
       "      <th>marital-status</th>\n",
       "      <th>occupation</th>\n",
       "      <th>relationship</th>\n",
       "      <th>race</th>\n",
       "      <th>gender</th>\n",
       "      <th>hours-per-week</th>\n",
       "      <th>native-country</th>\n",
       "      <th>income</th>\n",
       "      <th>income_change</th>\n",
       "    </tr>\n",
       "  </thead>\n",
       "  <tbody>\n",
       "    <tr>\n",
       "      <th>0</th>\n",
       "      <td>25</td>\n",
       "      <td>Private</td>\n",
       "      <td>226802</td>\n",
       "      <td>11th</td>\n",
       "      <td>Never-married</td>\n",
       "      <td>Machine-op-inspct</td>\n",
       "      <td>Own-child</td>\n",
       "      <td>Black</td>\n",
       "      <td>Male</td>\n",
       "      <td>40</td>\n",
       "      <td>United-States</td>\n",
       "      <td>0</td>\n",
       "      <td>0</td>\n",
       "    </tr>\n",
       "    <tr>\n",
       "      <th>1</th>\n",
       "      <td>38</td>\n",
       "      <td>Private</td>\n",
       "      <td>89814</td>\n",
       "      <td>HS-grad</td>\n",
       "      <td>Married-civ-spouse</td>\n",
       "      <td>Farming-fishing</td>\n",
       "      <td>Husband</td>\n",
       "      <td>White</td>\n",
       "      <td>Male</td>\n",
       "      <td>50</td>\n",
       "      <td>United-States</td>\n",
       "      <td>0</td>\n",
       "      <td>0</td>\n",
       "    </tr>\n",
       "    <tr>\n",
       "      <th>2</th>\n",
       "      <td>28</td>\n",
       "      <td>Local-gov</td>\n",
       "      <td>336951</td>\n",
       "      <td>Assoc-acdm</td>\n",
       "      <td>Married-civ-spouse</td>\n",
       "      <td>Protective-serv</td>\n",
       "      <td>Husband</td>\n",
       "      <td>White</td>\n",
       "      <td>Male</td>\n",
       "      <td>40</td>\n",
       "      <td>United-States</td>\n",
       "      <td>1</td>\n",
       "      <td>1</td>\n",
       "    </tr>\n",
       "    <tr>\n",
       "      <th>3</th>\n",
       "      <td>44</td>\n",
       "      <td>Private</td>\n",
       "      <td>160323</td>\n",
       "      <td>Some-college</td>\n",
       "      <td>Married-civ-spouse</td>\n",
       "      <td>Machine-op-inspct</td>\n",
       "      <td>Husband</td>\n",
       "      <td>Black</td>\n",
       "      <td>Male</td>\n",
       "      <td>40</td>\n",
       "      <td>United-States</td>\n",
       "      <td>1</td>\n",
       "      <td>1</td>\n",
       "    </tr>\n",
       "    <tr>\n",
       "      <th>5</th>\n",
       "      <td>34</td>\n",
       "      <td>Private</td>\n",
       "      <td>198693</td>\n",
       "      <td>10th</td>\n",
       "      <td>Never-married</td>\n",
       "      <td>Other-service</td>\n",
       "      <td>Not-in-family</td>\n",
       "      <td>White</td>\n",
       "      <td>Male</td>\n",
       "      <td>30</td>\n",
       "      <td>United-States</td>\n",
       "      <td>0</td>\n",
       "      <td>0</td>\n",
       "    </tr>\n",
       "    <tr>\n",
       "      <th>...</th>\n",
       "      <td>...</td>\n",
       "      <td>...</td>\n",
       "      <td>...</td>\n",
       "      <td>...</td>\n",
       "      <td>...</td>\n",
       "      <td>...</td>\n",
       "      <td>...</td>\n",
       "      <td>...</td>\n",
       "      <td>...</td>\n",
       "      <td>...</td>\n",
       "      <td>...</td>\n",
       "      <td>...</td>\n",
       "      <td>...</td>\n",
       "    </tr>\n",
       "    <tr>\n",
       "      <th>48837</th>\n",
       "      <td>27</td>\n",
       "      <td>Private</td>\n",
       "      <td>257302</td>\n",
       "      <td>Assoc-acdm</td>\n",
       "      <td>Married-civ-spouse</td>\n",
       "      <td>Tech-support</td>\n",
       "      <td>Wife</td>\n",
       "      <td>White</td>\n",
       "      <td>Female</td>\n",
       "      <td>38</td>\n",
       "      <td>United-States</td>\n",
       "      <td>0</td>\n",
       "      <td>0</td>\n",
       "    </tr>\n",
       "    <tr>\n",
       "      <th>48838</th>\n",
       "      <td>40</td>\n",
       "      <td>Private</td>\n",
       "      <td>154374</td>\n",
       "      <td>HS-grad</td>\n",
       "      <td>Married-civ-spouse</td>\n",
       "      <td>Machine-op-inspct</td>\n",
       "      <td>Husband</td>\n",
       "      <td>White</td>\n",
       "      <td>Male</td>\n",
       "      <td>40</td>\n",
       "      <td>United-States</td>\n",
       "      <td>1</td>\n",
       "      <td>1</td>\n",
       "    </tr>\n",
       "    <tr>\n",
       "      <th>48839</th>\n",
       "      <td>58</td>\n",
       "      <td>Private</td>\n",
       "      <td>151910</td>\n",
       "      <td>HS-grad</td>\n",
       "      <td>Widowed</td>\n",
       "      <td>Adm-clerical</td>\n",
       "      <td>Unmarried</td>\n",
       "      <td>White</td>\n",
       "      <td>Female</td>\n",
       "      <td>40</td>\n",
       "      <td>United-States</td>\n",
       "      <td>0</td>\n",
       "      <td>0</td>\n",
       "    </tr>\n",
       "    <tr>\n",
       "      <th>48840</th>\n",
       "      <td>22</td>\n",
       "      <td>Private</td>\n",
       "      <td>201490</td>\n",
       "      <td>HS-grad</td>\n",
       "      <td>Never-married</td>\n",
       "      <td>Adm-clerical</td>\n",
       "      <td>Own-child</td>\n",
       "      <td>White</td>\n",
       "      <td>Male</td>\n",
       "      <td>20</td>\n",
       "      <td>United-States</td>\n",
       "      <td>0</td>\n",
       "      <td>0</td>\n",
       "    </tr>\n",
       "    <tr>\n",
       "      <th>48841</th>\n",
       "      <td>52</td>\n",
       "      <td>Self-emp-inc</td>\n",
       "      <td>287927</td>\n",
       "      <td>HS-grad</td>\n",
       "      <td>Married-civ-spouse</td>\n",
       "      <td>Exec-managerial</td>\n",
       "      <td>Wife</td>\n",
       "      <td>White</td>\n",
       "      <td>Female</td>\n",
       "      <td>40</td>\n",
       "      <td>United-States</td>\n",
       "      <td>1</td>\n",
       "      <td>1</td>\n",
       "    </tr>\n",
       "  </tbody>\n",
       "</table>\n",
       "<p>45175 rows × 13 columns</p>\n",
       "</div>"
      ],
      "text/plain": [
       "       age     workclass  fnlwgt     education      marital-status  \\\n",
       "0       25       Private  226802          11th       Never-married   \n",
       "1       38       Private   89814       HS-grad  Married-civ-spouse   \n",
       "2       28     Local-gov  336951    Assoc-acdm  Married-civ-spouse   \n",
       "3       44       Private  160323  Some-college  Married-civ-spouse   \n",
       "5       34       Private  198693          10th       Never-married   \n",
       "...    ...           ...     ...           ...                 ...   \n",
       "48837   27       Private  257302    Assoc-acdm  Married-civ-spouse   \n",
       "48838   40       Private  154374       HS-grad  Married-civ-spouse   \n",
       "48839   58       Private  151910       HS-grad             Widowed   \n",
       "48840   22       Private  201490       HS-grad       Never-married   \n",
       "48841   52  Self-emp-inc  287927       HS-grad  Married-civ-spouse   \n",
       "\n",
       "              occupation   relationship   race  gender  hours-per-week  \\\n",
       "0      Machine-op-inspct      Own-child  Black    Male              40   \n",
       "1        Farming-fishing        Husband  White    Male              50   \n",
       "2        Protective-serv        Husband  White    Male              40   \n",
       "3      Machine-op-inspct        Husband  Black    Male              40   \n",
       "5          Other-service  Not-in-family  White    Male              30   \n",
       "...                  ...            ...    ...     ...             ...   \n",
       "48837       Tech-support           Wife  White  Female              38   \n",
       "48838  Machine-op-inspct        Husband  White    Male              40   \n",
       "48839       Adm-clerical      Unmarried  White  Female              40   \n",
       "48840       Adm-clerical      Own-child  White    Male              20   \n",
       "48841    Exec-managerial           Wife  White  Female              40   \n",
       "\n",
       "      native-country  income  income_change  \n",
       "0      United-States       0              0  \n",
       "1      United-States       0              0  \n",
       "2      United-States       1              1  \n",
       "3      United-States       1              1  \n",
       "5      United-States       0              0  \n",
       "...              ...     ...            ...  \n",
       "48837  United-States       0              0  \n",
       "48838  United-States       1              1  \n",
       "48839  United-States       0              0  \n",
       "48840  United-States       0              0  \n",
       "48841  United-States       1              1  \n",
       "\n",
       "[45175 rows x 13 columns]"
      ]
     },
     "execution_count": 38,
     "metadata": {},
     "output_type": "execute_result"
    }
   ],
   "source": [
    "df"
   ]
  },
  {
   "cell_type": "markdown",
   "id": "466d8aba-702c-42c5-a526-86354c14870f",
   "metadata": {},
   "source": [
    "## Which Workclass Getting The Highest Salary?\n"
   ]
  },
  {
   "cell_type": "code",
   "execution_count": 39,
   "id": "0dc6009e-8fc7-4085-aeba-ed33642009e6",
   "metadata": {},
   "outputs": [
    {
     "data": {
      "text/html": [
       "<div>\n",
       "<style scoped>\n",
       "    .dataframe tbody tr th:only-of-type {\n",
       "        vertical-align: middle;\n",
       "    }\n",
       "\n",
       "    .dataframe tbody tr th {\n",
       "        vertical-align: top;\n",
       "    }\n",
       "\n",
       "    .dataframe thead th {\n",
       "        text-align: right;\n",
       "    }\n",
       "</style>\n",
       "<table border=\"1\" class=\"dataframe\">\n",
       "  <thead>\n",
       "    <tr style=\"text-align: right;\">\n",
       "      <th></th>\n",
       "      <th>age</th>\n",
       "      <th>workclass</th>\n",
       "      <th>fnlwgt</th>\n",
       "      <th>education</th>\n",
       "      <th>marital-status</th>\n",
       "      <th>occupation</th>\n",
       "      <th>relationship</th>\n",
       "      <th>race</th>\n",
       "      <th>gender</th>\n",
       "      <th>hours-per-week</th>\n",
       "      <th>native-country</th>\n",
       "      <th>income</th>\n",
       "      <th>income_change</th>\n",
       "    </tr>\n",
       "  </thead>\n",
       "  <tbody>\n",
       "    <tr>\n",
       "      <th>0</th>\n",
       "      <td>25</td>\n",
       "      <td>Private</td>\n",
       "      <td>226802</td>\n",
       "      <td>11th</td>\n",
       "      <td>Never-married</td>\n",
       "      <td>Machine-op-inspct</td>\n",
       "      <td>Own-child</td>\n",
       "      <td>Black</td>\n",
       "      <td>Male</td>\n",
       "      <td>40</td>\n",
       "      <td>United-States</td>\n",
       "      <td>0</td>\n",
       "      <td>0</td>\n",
       "    </tr>\n",
       "    <tr>\n",
       "      <th>1</th>\n",
       "      <td>38</td>\n",
       "      <td>Private</td>\n",
       "      <td>89814</td>\n",
       "      <td>HS-grad</td>\n",
       "      <td>Married-civ-spouse</td>\n",
       "      <td>Farming-fishing</td>\n",
       "      <td>Husband</td>\n",
       "      <td>White</td>\n",
       "      <td>Male</td>\n",
       "      <td>50</td>\n",
       "      <td>United-States</td>\n",
       "      <td>0</td>\n",
       "      <td>0</td>\n",
       "    </tr>\n",
       "  </tbody>\n",
       "</table>\n",
       "</div>"
      ],
      "text/plain": [
       "   age workclass  fnlwgt education      marital-status         occupation  \\\n",
       "0   25   Private  226802      11th       Never-married  Machine-op-inspct   \n",
       "1   38   Private   89814   HS-grad  Married-civ-spouse    Farming-fishing   \n",
       "\n",
       "  relationship   race gender  hours-per-week native-country  income  \\\n",
       "0    Own-child  Black   Male              40  United-States       0   \n",
       "1      Husband  White   Male              50  United-States       0   \n",
       "\n",
       "   income_change  \n",
       "0              0  \n",
       "1              0  "
      ]
     },
     "execution_count": 39,
     "metadata": {},
     "output_type": "execute_result"
    }
   ],
   "source": [
    "df.head(2)"
   ]
  },
  {
   "cell_type": "code",
   "execution_count": 40,
   "id": "907a5034-0fe3-4c24-9f43-5bb83311d373",
   "metadata": {},
   "outputs": [
    {
     "data": {
      "text/plain": [
       "workclass\n",
       "Self-emp-inc        0.554407\n",
       "Federal-gov         0.390469\n",
       "Local-gov           0.295161\n",
       "Self-emp-not-inc    0.279051\n",
       "State-gov           0.267215\n",
       "Private             0.217816\n",
       "Without-pay         0.095238\n",
       "Name: income, dtype: float64"
      ]
     },
     "execution_count": 40,
     "metadata": {},
     "output_type": "execute_result"
    }
   ],
   "source": [
    "df.groupby(\"workclass\")[\"income\"].mean().sort_values(ascending = False)"
   ]
  },
  {
   "cell_type": "markdown",
   "id": "5d783405-a20a-4e8b-bc03-847e79d63784",
   "metadata": {},
   "source": [
    "## How Has Better Chance To Get Salary greater than 50K Male or Female?"
   ]
  },
  {
   "cell_type": "code",
   "execution_count": 41,
   "id": "88b83200-6d1e-4e80-a120-ec523b1793c4",
   "metadata": {},
   "outputs": [
    {
     "data": {
      "text/plain": [
       "Index(['age', 'workclass', 'fnlwgt', 'education', 'marital-status',\n",
       "       'occupation', 'relationship', 'race', 'gender', 'hours-per-week',\n",
       "       'native-country', 'income', 'income_change'],\n",
       "      dtype='object')"
      ]
     },
     "execution_count": 41,
     "metadata": {},
     "output_type": "execute_result"
    }
   ],
   "source": [
    "df.columns"
   ]
  },
  {
   "cell_type": "code",
   "execution_count": 42,
   "id": "630ebc22-04c5-4a2a-af99-13c53f63d3a8",
   "metadata": {},
   "outputs": [
    {
     "data": {
      "text/plain": [
       "gender\n",
       "Male      0.312609\n",
       "Female    0.113692\n",
       "Name: income, dtype: float64"
      ]
     },
     "execution_count": 42,
     "metadata": {},
     "output_type": "execute_result"
    }
   ],
   "source": [
    "df.groupby(\"gender\")[\"income\"].mean().sort_values(ascending = False)"
   ]
  },
  {
   "cell_type": "markdown",
   "id": "b5ad2387-30e2-470e-9af3-565423291a75",
   "metadata": {},
   "source": [
    "## Covert workclass Columns Datatype To Category Datatype"
   ]
  },
  {
   "cell_type": "code",
   "execution_count": 43,
   "id": "f8ef35ae-33e8-41b3-a945-a601658b7ad1",
   "metadata": {},
   "outputs": [
    {
     "name": "stdout",
     "output_type": "stream",
     "text": [
      "<class 'pandas.core.frame.DataFrame'>\n",
      "Index: 45175 entries, 0 to 48841\n",
      "Data columns (total 13 columns):\n",
      " #   Column          Non-Null Count  Dtype \n",
      "---  ------          --------------  ----- \n",
      " 0   age             45175 non-null  int64 \n",
      " 1   workclass       45175 non-null  object\n",
      " 2   fnlwgt          45175 non-null  int64 \n",
      " 3   education       45175 non-null  object\n",
      " 4   marital-status  45175 non-null  object\n",
      " 5   occupation      45175 non-null  object\n",
      " 6   relationship    45175 non-null  object\n",
      " 7   race            45175 non-null  object\n",
      " 8   gender          45175 non-null  object\n",
      " 9   hours-per-week  45175 non-null  int64 \n",
      " 10  native-country  45175 non-null  object\n",
      " 11  income          45175 non-null  int64 \n",
      " 12  income_change   45175 non-null  int64 \n",
      "dtypes: int64(5), object(8)\n",
      "memory usage: 4.8+ MB\n"
     ]
    }
   ],
   "source": [
    "df.info()"
   ]
  },
  {
   "cell_type": "code",
   "execution_count": 44,
   "id": "556c1bc7-9635-4888-b43d-e932c55f4cca",
   "metadata": {},
   "outputs": [],
   "source": [
    "df[\"workclass\"]= df[\"workclass\"].astype(\"category\")"
   ]
  },
  {
   "cell_type": "code",
   "execution_count": 45,
   "id": "37a64016-e591-4e03-a33e-9131bbd1f4e7",
   "metadata": {},
   "outputs": [
    {
     "name": "stdout",
     "output_type": "stream",
     "text": [
      "<class 'pandas.core.frame.DataFrame'>\n",
      "Index: 45175 entries, 0 to 48841\n",
      "Data columns (total 13 columns):\n",
      " #   Column          Non-Null Count  Dtype   \n",
      "---  ------          --------------  -----   \n",
      " 0   age             45175 non-null  int64   \n",
      " 1   workclass       45175 non-null  category\n",
      " 2   fnlwgt          45175 non-null  int64   \n",
      " 3   education       45175 non-null  object  \n",
      " 4   marital-status  45175 non-null  object  \n",
      " 5   occupation      45175 non-null  object  \n",
      " 6   relationship    45175 non-null  object  \n",
      " 7   race            45175 non-null  object  \n",
      " 8   gender          45175 non-null  object  \n",
      " 9   hours-per-week  45175 non-null  int64   \n",
      " 10  native-country  45175 non-null  object  \n",
      " 11  income          45175 non-null  int64   \n",
      " 12  income_change   45175 non-null  int64   \n",
      "dtypes: category(1), int64(5), object(7)\n",
      "memory usage: 4.5+ MB\n"
     ]
    }
   ],
   "source": [
    "df.info()"
   ]
  },
  {
   "cell_type": "code",
   "execution_count": null,
   "id": "996f7b51-180c-433c-91f2-9b3660f40fb3",
   "metadata": {},
   "outputs": [],
   "source": []
  }
 ],
 "metadata": {
  "kernelspec": {
   "display_name": "Python 3 (ipykernel)",
   "language": "python",
   "name": "python3"
  },
  "language_info": {
   "codemirror_mode": {
    "name": "ipython",
    "version": 3
   },
   "file_extension": ".py",
   "mimetype": "text/x-python",
   "name": "python",
   "nbconvert_exporter": "python",
   "pygments_lexer": "ipython3",
   "version": "3.12.7"
  }
 },
 "nbformat": 4,
 "nbformat_minor": 5
}
